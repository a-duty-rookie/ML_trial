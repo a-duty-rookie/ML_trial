{
 "cells": [
  {
   "cell_type": "markdown",
   "metadata": {},
   "source": [
    "# ニ値分類問題\n",
    "1. titanicデータを使用 [kaggle](https://www.kaggle.com/c/titanic/data)\n",
    "3. 分類器はロジスティック回帰、SVM、GBDTを試す。\n",
    "   - それぞれハイパラをCVで決定し、アルゴリズムの対決をtestデータの AUCスコアで評価する"
   ]
  },
  {
   "cell_type": "markdown",
   "metadata": {},
   "source": [
    "## 下準備"
   ]
  },
  {
   "cell_type": "code",
   "execution_count": 244,
   "metadata": {},
   "outputs": [],
   "source": [
    "import numpy as np\n",
    "import pandas as pd\n",
    "import matplotlib.pyplot as plt\n",
    "import seaborn as sns\n"
   ]
  },
  {
   "cell_type": "code",
   "execution_count": 245,
   "metadata": {},
   "outputs": [],
   "source": [
    "sns.set_theme()"
   ]
  },
  {
   "cell_type": "code",
   "execution_count": 312,
   "metadata": {},
   "outputs": [],
   "source": [
    "data = pd.read_csv('./dump/titanic/train.csv')\n",
    "data = data.set_index('PassengerId',drop=True)"
   ]
  },
  {
   "cell_type": "markdown",
   "metadata": {},
   "source": [
    "### データを眺める\n",
    "#### 欠損確認"
   ]
  },
  {
   "cell_type": "code",
   "execution_count": 313,
   "metadata": {},
   "outputs": [
    {
     "name": "stdout",
     "output_type": "stream",
     "text": [
      "<class 'pandas.core.frame.DataFrame'>\n",
      "Index: 891 entries, 1 to 891\n",
      "Data columns (total 11 columns):\n",
      " #   Column    Non-Null Count  Dtype  \n",
      "---  ------    --------------  -----  \n",
      " 0   Survived  891 non-null    int64  \n",
      " 1   Pclass    891 non-null    int64  \n",
      " 2   Name      891 non-null    object \n",
      " 3   Sex       891 non-null    object \n",
      " 4   Age       714 non-null    float64\n",
      " 5   SibSp     891 non-null    int64  \n",
      " 6   Parch     891 non-null    int64  \n",
      " 7   Ticket    891 non-null    object \n",
      " 8   Fare      891 non-null    float64\n",
      " 9   Cabin     204 non-null    object \n",
      " 10  Embarked  889 non-null    object \n",
      "dtypes: float64(2), int64(4), object(5)\n",
      "memory usage: 83.5+ KB\n"
     ]
    }
   ],
   "source": [
    "data.info()"
   ]
  },
  {
   "cell_type": "markdown",
   "metadata": {},
   "source": [
    "Age、Cabin、Embarkedに欠損がある  \n",
    "Pclassはカテゴリカルだが順序尺度なのでとりあえずこのまま使う？"
   ]
  },
  {
   "cell_type": "markdown",
   "metadata": {},
   "source": [
    "### 分割"
   ]
  },
  {
   "cell_type": "code",
   "execution_count": 314,
   "metadata": {},
   "outputs": [],
   "source": [
    "y = np.array(data.Survived)\n",
    "feature_names = list(data.columns)[1:]\n",
    "X = np.array(data[feature_names])\n",
    "from sklearn.model_selection import train_test_split\n",
    "X_trainval, X_test, y_trainval, y_test = train_test_split(X,y,random_state=42)"
   ]
  },
  {
   "cell_type": "code",
   "execution_count": 315,
   "metadata": {},
   "outputs": [],
   "source": [
    "data = pd.DataFrame(X_trainval)\n",
    "data = data.rename(columns=dict(zip(range(len(feature_names)),feature_names)))\n",
    "data['Survived'] = y_trainval"
   ]
  },
  {
   "cell_type": "markdown",
   "metadata": {},
   "source": [
    "### Pclass"
   ]
  },
  {
   "cell_type": "code",
   "execution_count": 280,
   "metadata": {},
   "outputs": [
    {
     "data": {
      "text/html": [
       "<div>\n",
       "<style scoped>\n",
       "    .dataframe tbody tr th:only-of-type {\n",
       "        vertical-align: middle;\n",
       "    }\n",
       "\n",
       "    .dataframe tbody tr th {\n",
       "        vertical-align: top;\n",
       "    }\n",
       "\n",
       "    .dataframe thead th {\n",
       "        text-align: right;\n",
       "    }\n",
       "</style>\n",
       "<table border=\"1\" class=\"dataframe\">\n",
       "  <thead>\n",
       "    <tr style=\"text-align: right;\">\n",
       "      <th></th>\n",
       "      <th>Name</th>\n",
       "      <th>Sex</th>\n",
       "      <th>Age</th>\n",
       "      <th>SibSp</th>\n",
       "      <th>Parch</th>\n",
       "      <th>Ticket</th>\n",
       "      <th>Fare</th>\n",
       "      <th>Cabin</th>\n",
       "      <th>Embarked</th>\n",
       "      <th>Survived</th>\n",
       "    </tr>\n",
       "    <tr>\n",
       "      <th>Pclass</th>\n",
       "      <th></th>\n",
       "      <th></th>\n",
       "      <th></th>\n",
       "      <th></th>\n",
       "      <th></th>\n",
       "      <th></th>\n",
       "      <th></th>\n",
       "      <th></th>\n",
       "      <th></th>\n",
       "      <th></th>\n",
       "    </tr>\n",
       "  </thead>\n",
       "  <tbody>\n",
       "    <tr>\n",
       "      <th>1</th>\n",
       "      <td>152</td>\n",
       "      <td>152</td>\n",
       "      <td>133</td>\n",
       "      <td>152</td>\n",
       "      <td>152</td>\n",
       "      <td>152</td>\n",
       "      <td>152</td>\n",
       "      <td>126</td>\n",
       "      <td>150</td>\n",
       "      <td>152</td>\n",
       "    </tr>\n",
       "    <tr>\n",
       "      <th>2</th>\n",
       "      <td>141</td>\n",
       "      <td>141</td>\n",
       "      <td>131</td>\n",
       "      <td>141</td>\n",
       "      <td>141</td>\n",
       "      <td>141</td>\n",
       "      <td>141</td>\n",
       "      <td>12</td>\n",
       "      <td>141</td>\n",
       "      <td>141</td>\n",
       "    </tr>\n",
       "    <tr>\n",
       "      <th>3</th>\n",
       "      <td>375</td>\n",
       "      <td>375</td>\n",
       "      <td>272</td>\n",
       "      <td>375</td>\n",
       "      <td>375</td>\n",
       "      <td>375</td>\n",
       "      <td>375</td>\n",
       "      <td>11</td>\n",
       "      <td>375</td>\n",
       "      <td>375</td>\n",
       "    </tr>\n",
       "  </tbody>\n",
       "</table>\n",
       "</div>"
      ],
      "text/plain": [
       "        Name  Sex  Age  SibSp  Parch  Ticket  Fare  Cabin  Embarked  Survived\n",
       "Pclass                                                                       \n",
       "1        152  152  133    152    152     152   152    126       150       152\n",
       "2        141  141  131    141    141     141   141     12       141       141\n",
       "3        375  375  272    375    375     375   375     11       375       375"
      ]
     },
     "execution_count": 280,
     "metadata": {},
     "output_type": "execute_result"
    }
   ],
   "source": [
    "data.groupby('Pclass').count()"
   ]
  },
  {
   "cell_type": "code",
   "execution_count": 283,
   "metadata": {},
   "outputs": [
    {
     "data": {
      "text/html": [
       "<div>\n",
       "<style scoped>\n",
       "    .dataframe tbody tr th:only-of-type {\n",
       "        vertical-align: middle;\n",
       "    }\n",
       "\n",
       "    .dataframe tbody tr th {\n",
       "        vertical-align: top;\n",
       "    }\n",
       "\n",
       "    .dataframe thead th {\n",
       "        text-align: right;\n",
       "    }\n",
       "</style>\n",
       "<table border=\"1\" class=\"dataframe\">\n",
       "  <thead>\n",
       "    <tr style=\"text-align: right;\">\n",
       "      <th></th>\n",
       "      <th>Name</th>\n",
       "      <th>Sex</th>\n",
       "      <th>Age</th>\n",
       "      <th>SibSp</th>\n",
       "      <th>Parch</th>\n",
       "      <th>Ticket</th>\n",
       "      <th>Fare</th>\n",
       "      <th>Cabin</th>\n",
       "      <th>Embarked</th>\n",
       "      <th>Survived</th>\n",
       "    </tr>\n",
       "    <tr>\n",
       "      <th>Pclass</th>\n",
       "      <th></th>\n",
       "      <th></th>\n",
       "      <th></th>\n",
       "      <th></th>\n",
       "      <th></th>\n",
       "      <th></th>\n",
       "      <th></th>\n",
       "      <th></th>\n",
       "      <th></th>\n",
       "      <th></th>\n",
       "    </tr>\n",
       "  </thead>\n",
       "  <tbody>\n",
       "    <tr>\n",
       "      <th>1</th>\n",
       "      <td>Saalfeld, Mr. AdolpheAllison, Master. Hudson T...</td>\n",
       "      <td>malemalefemalefemalefemalemalemalefemalefemale...</td>\n",
       "      <td>5066.92</td>\n",
       "      <td>67</td>\n",
       "      <td>52</td>\n",
       "      <td>19988113781PC 17608113572PC 17757113786PC 1761...</td>\n",
       "      <td>13352.9125</td>\n",
       "      <td>C106C22 C26B57 B59 B63 B66B28C104D11C86E38C52A...</td>\n",
       "      <td>SSCCSSSSCSSSSSCSSCCSSSSSCCCSSSCSCSCCCCSSSCCSCS...</td>\n",
       "      <td>93</td>\n",
       "    </tr>\n",
       "    <tr>\n",
       "      <th>2</th>\n",
       "      <td>Hamalainen, Mrs. William (Anna)Kantor, Mrs. Si...</td>\n",
       "      <td>femalefemalemalemalefemalemalemalefemalefemale...</td>\n",
       "      <td>3916.0</td>\n",
       "      <td>60</td>\n",
       "      <td>54</td>\n",
       "      <td>25064924436728664219533SC/AH 3085230080C.A. 17...</td>\n",
       "      <td>2906.7209</td>\n",
       "      <td>F2F2DF2F33F4E101E101E101F4F33D56</td>\n",
       "      <td>SSSQSSSSSSSSCSCSCSSSSCSSSSSSSSSSSCSCSSSSSCSSCS...</td>\n",
       "      <td>68</td>\n",
       "    </tr>\n",
       "    <tr>\n",
       "      <th>3</th>\n",
       "      <td>Sutehall, Mr. Henry JrKarlsson, Mr. Nils Augus...</td>\n",
       "      <td>malemalefemalemalefemalemalefemalefemalemalema...</td>\n",
       "      <td>6786.92</td>\n",
       "      <td>243</td>\n",
       "      <td>143</td>\n",
       "      <td>SOTON/OQ 392076350060STON/O2. 3101282384461262...</td>\n",
       "      <td>5236.2036</td>\n",
       "      <td>F G73G6E10F G73E121E121F E69G6G6F38F G63</td>\n",
       "      <td>SSSQCSSSSCSCSSSSSQCSSSSSSSSSSSSQSSSQCCSQCSSSSS...</td>\n",
       "      <td>92</td>\n",
       "    </tr>\n",
       "  </tbody>\n",
       "</table>\n",
       "</div>"
      ],
      "text/plain": [
       "                                                     Name  \\\n",
       "Pclass                                                      \n",
       "1       Saalfeld, Mr. AdolpheAllison, Master. Hudson T...   \n",
       "2       Hamalainen, Mrs. William (Anna)Kantor, Mrs. Si...   \n",
       "3       Sutehall, Mr. Henry JrKarlsson, Mr. Nils Augus...   \n",
       "\n",
       "                                                      Sex      Age SibSp  \\\n",
       "Pclass                                                                     \n",
       "1       malemalefemalefemalefemalemalemalefemalefemale...  5066.92    67   \n",
       "2       femalefemalemalemalefemalemalemalefemalefemale...   3916.0    60   \n",
       "3       malemalefemalemalefemalemalefemalefemalemalema...  6786.92   243   \n",
       "\n",
       "       Parch                                             Ticket        Fare  \\\n",
       "Pclass                                                                        \n",
       "1         52  19988113781PC 17608113572PC 17757113786PC 1761...  13352.9125   \n",
       "2         54  25064924436728664219533SC/AH 3085230080C.A. 17...   2906.7209   \n",
       "3        143  SOTON/OQ 392076350060STON/O2. 3101282384461262...   5236.2036   \n",
       "\n",
       "                                                    Cabin  \\\n",
       "Pclass                                                      \n",
       "1       C106C22 C26B57 B59 B63 B66B28C104D11C86E38C52A...   \n",
       "2                        F2F2DF2F33F4E101E101E101F4F33D56   \n",
       "3                F G73G6E10F G73E121E121F E69G6G6F38F G63   \n",
       "\n",
       "                                                 Embarked  Survived  \n",
       "Pclass                                                               \n",
       "1       SSCCSSSSCSSSSSCSSCCSSSSSCCCSSSCSCSCCCCSSSCCSCS...        93  \n",
       "2       SSSQSSSSSSSSCSCSCSSSSCSSSSSSSSSSSCSCSSSSSCSSCS...        68  \n",
       "3       SSSQCSSSSCSCSSSSSQCSSSSSSSSSSSSQSSSQCCSQCSSSSS...        92  "
      ]
     },
     "execution_count": 283,
     "metadata": {},
     "output_type": "execute_result"
    }
   ],
   "source": [
    "data.groupby('Pclass').sum(\n",
    "    # numeric_only=True\n",
    "    )\n"
   ]
  },
  {
   "cell_type": "markdown",
   "metadata": {},
   "source": [
    "人数的にも対応的にも等間隔はちょっとビミョいのでダミー変数にする"
   ]
  },
  {
   "cell_type": "markdown",
   "metadata": {},
   "source": [
    "#### SibSpとParchについて"
   ]
  },
  {
   "cell_type": "code",
   "execution_count": 285,
   "metadata": {},
   "outputs": [
    {
     "name": "stdout",
     "output_type": "stream",
     "text": [
      "SibSp {0, 1, 2, 3, 4, 5, 8}\n",
      "Parch {0, 1, 2, 3, 4, 5, 6}\n"
     ]
    }
   ],
   "source": [
    "print('SibSp',set(data.SibSp))\n",
    "print('Parch',set(data.Parch))"
   ]
  },
  {
   "cell_type": "code",
   "execution_count": 286,
   "metadata": {},
   "outputs": [
    {
     "data": {
      "text/html": [
       "<div>\n",
       "<style scoped>\n",
       "    .dataframe tbody tr th:only-of-type {\n",
       "        vertical-align: middle;\n",
       "    }\n",
       "\n",
       "    .dataframe tbody tr th {\n",
       "        vertical-align: top;\n",
       "    }\n",
       "\n",
       "    .dataframe thead th {\n",
       "        text-align: right;\n",
       "    }\n",
       "</style>\n",
       "<table border=\"1\" class=\"dataframe\">\n",
       "  <thead>\n",
       "    <tr style=\"text-align: right;\">\n",
       "      <th></th>\n",
       "      <th>Pclass</th>\n",
       "      <th>Name</th>\n",
       "      <th>Sex</th>\n",
       "      <th>Age</th>\n",
       "      <th>SibSp</th>\n",
       "      <th>Parch</th>\n",
       "      <th>Ticket</th>\n",
       "      <th>Fare</th>\n",
       "      <th>Cabin</th>\n",
       "      <th>Embarked</th>\n",
       "      <th>Survived</th>\n",
       "    </tr>\n",
       "  </thead>\n",
       "  <tbody>\n",
       "    <tr>\n",
       "      <th>131</th>\n",
       "      <td>3</td>\n",
       "      <td>Goodwin, Mrs. Frederick (Augusta Tyler)</td>\n",
       "      <td>female</td>\n",
       "      <td>43.0</td>\n",
       "      <td>1</td>\n",
       "      <td>6</td>\n",
       "      <td>CA 2144</td>\n",
       "      <td>46.9</td>\n",
       "      <td>NaN</td>\n",
       "      <td>S</td>\n",
       "      <td>0</td>\n",
       "    </tr>\n",
       "  </tbody>\n",
       "</table>\n",
       "</div>"
      ],
      "text/plain": [
       "    Pclass                                     Name     Sex   Age SibSp Parch  \\\n",
       "131      3  Goodwin, Mrs. Frederick (Augusta Tyler)  female  43.0     1     6   \n",
       "\n",
       "      Ticket  Fare Cabin Embarked  Survived  \n",
       "131  CA 2144  46.9   NaN        S         0  "
      ]
     },
     "execution_count": 286,
     "metadata": {},
     "output_type": "execute_result"
    }
   ],
   "source": [
    "data.loc[data.Parch==6]"
   ]
  },
  {
   "cell_type": "code",
   "execution_count": 287,
   "metadata": {},
   "outputs": [
    {
     "data": {
      "text/html": [
       "<div>\n",
       "<style scoped>\n",
       "    .dataframe tbody tr th:only-of-type {\n",
       "        vertical-align: middle;\n",
       "    }\n",
       "\n",
       "    .dataframe tbody tr th {\n",
       "        vertical-align: top;\n",
       "    }\n",
       "\n",
       "    .dataframe thead th {\n",
       "        text-align: right;\n",
       "    }\n",
       "</style>\n",
       "<table border=\"1\" class=\"dataframe\">\n",
       "  <thead>\n",
       "    <tr style=\"text-align: right;\">\n",
       "      <th></th>\n",
       "      <th>Pclass</th>\n",
       "      <th>Name</th>\n",
       "      <th>Sex</th>\n",
       "      <th>Age</th>\n",
       "      <th>SibSp</th>\n",
       "      <th>Parch</th>\n",
       "      <th>Ticket</th>\n",
       "      <th>Fare</th>\n",
       "      <th>Cabin</th>\n",
       "      <th>Embarked</th>\n",
       "      <th>Survived</th>\n",
       "    </tr>\n",
       "  </thead>\n",
       "  <tbody>\n",
       "    <tr>\n",
       "      <th>188</th>\n",
       "      <td>3</td>\n",
       "      <td>Sage, Mr. George John Jr</td>\n",
       "      <td>male</td>\n",
       "      <td>NaN</td>\n",
       "      <td>8</td>\n",
       "      <td>2</td>\n",
       "      <td>CA. 2343</td>\n",
       "      <td>69.55</td>\n",
       "      <td>NaN</td>\n",
       "      <td>S</td>\n",
       "      <td>0</td>\n",
       "    </tr>\n",
       "    <tr>\n",
       "      <th>300</th>\n",
       "      <td>3</td>\n",
       "      <td>Sage, Miss. Stella Anna</td>\n",
       "      <td>female</td>\n",
       "      <td>NaN</td>\n",
       "      <td>8</td>\n",
       "      <td>2</td>\n",
       "      <td>CA. 2343</td>\n",
       "      <td>69.55</td>\n",
       "      <td>NaN</td>\n",
       "      <td>S</td>\n",
       "      <td>0</td>\n",
       "    </tr>\n",
       "    <tr>\n",
       "      <th>324</th>\n",
       "      <td>3</td>\n",
       "      <td>Sage, Miss. Constance Gladys</td>\n",
       "      <td>female</td>\n",
       "      <td>NaN</td>\n",
       "      <td>8</td>\n",
       "      <td>2</td>\n",
       "      <td>CA. 2343</td>\n",
       "      <td>69.55</td>\n",
       "      <td>NaN</td>\n",
       "      <td>S</td>\n",
       "      <td>0</td>\n",
       "    </tr>\n",
       "    <tr>\n",
       "      <th>451</th>\n",
       "      <td>3</td>\n",
       "      <td>Sage, Miss. Dorothy Edith \"Dolly\"</td>\n",
       "      <td>female</td>\n",
       "      <td>NaN</td>\n",
       "      <td>8</td>\n",
       "      <td>2</td>\n",
       "      <td>CA. 2343</td>\n",
       "      <td>69.55</td>\n",
       "      <td>NaN</td>\n",
       "      <td>S</td>\n",
       "      <td>0</td>\n",
       "    </tr>\n",
       "    <tr>\n",
       "      <th>480</th>\n",
       "      <td>3</td>\n",
       "      <td>Sage, Mr. Douglas Bullen</td>\n",
       "      <td>male</td>\n",
       "      <td>NaN</td>\n",
       "      <td>8</td>\n",
       "      <td>2</td>\n",
       "      <td>CA. 2343</td>\n",
       "      <td>69.55</td>\n",
       "      <td>NaN</td>\n",
       "      <td>S</td>\n",
       "      <td>0</td>\n",
       "    </tr>\n",
       "    <tr>\n",
       "      <th>499</th>\n",
       "      <td>3</td>\n",
       "      <td>Sage, Master. Thomas Henry</td>\n",
       "      <td>male</td>\n",
       "      <td>NaN</td>\n",
       "      <td>8</td>\n",
       "      <td>2</td>\n",
       "      <td>CA. 2343</td>\n",
       "      <td>69.55</td>\n",
       "      <td>NaN</td>\n",
       "      <td>S</td>\n",
       "      <td>0</td>\n",
       "    </tr>\n",
       "    <tr>\n",
       "      <th>578</th>\n",
       "      <td>3</td>\n",
       "      <td>Sage, Mr. Frederick</td>\n",
       "      <td>male</td>\n",
       "      <td>NaN</td>\n",
       "      <td>8</td>\n",
       "      <td>2</td>\n",
       "      <td>CA. 2343</td>\n",
       "      <td>69.55</td>\n",
       "      <td>NaN</td>\n",
       "      <td>S</td>\n",
       "      <td>0</td>\n",
       "    </tr>\n",
       "  </tbody>\n",
       "</table>\n",
       "</div>"
      ],
      "text/plain": [
       "    Pclass                               Name     Sex  Age SibSp Parch  \\\n",
       "188      3           Sage, Mr. George John Jr    male  NaN     8     2   \n",
       "300      3            Sage, Miss. Stella Anna  female  NaN     8     2   \n",
       "324      3       Sage, Miss. Constance Gladys  female  NaN     8     2   \n",
       "451      3  Sage, Miss. Dorothy Edith \"Dolly\"  female  NaN     8     2   \n",
       "480      3           Sage, Mr. Douglas Bullen    male  NaN     8     2   \n",
       "499      3         Sage, Master. Thomas Henry    male  NaN     8     2   \n",
       "578      3                Sage, Mr. Frederick    male  NaN     8     2   \n",
       "\n",
       "       Ticket   Fare Cabin Embarked  Survived  \n",
       "188  CA. 2343  69.55   NaN        S         0  \n",
       "300  CA. 2343  69.55   NaN        S         0  \n",
       "324  CA. 2343  69.55   NaN        S         0  \n",
       "451  CA. 2343  69.55   NaN        S         0  \n",
       "480  CA. 2343  69.55   NaN        S         0  \n",
       "499  CA. 2343  69.55   NaN        S         0  \n",
       "578  CA. 2343  69.55   NaN        S         0  "
      ]
     },
     "execution_count": 287,
     "metadata": {},
     "output_type": "execute_result"
    }
   ],
   "source": [
    "data.loc[data.SibSp==8]"
   ]
  },
  {
   "cell_type": "markdown",
   "metadata": {},
   "source": [
    "SibSp=8, Parch=2の一家は7人しか名前がなかったり、Parch=6の人は1人しかいないのはtrain_test_splitのため  "
   ]
  },
  {
   "cell_type": "code",
   "execution_count": 289,
   "metadata": {},
   "outputs": [
    {
     "data": {
      "text/plain": [
       "<seaborn.axisgrid.PairGrid at 0x2ba0964d0>"
      ]
     },
     "execution_count": 289,
     "metadata": {},
     "output_type": "execute_result"
    },
    {
     "data": {
      "image/png": "[encoded data removed]",
      "text/plain": [
       "<Figure size 577.347x500 with 6 Axes>"
      ]
     },
     "metadata": {},
     "output_type": "display_data"
    }
   ],
   "source": [
    "sns.pairplot(\n",
    "    data[['Survived','SibSp','Parch']],\n",
    "    hue='Survived'\n",
    ")"
   ]
  },
  {
   "cell_type": "code",
   "execution_count": 290,
   "metadata": {},
   "outputs": [
    {
     "data": {
      "text/html": [
       "<div>\n",
       "<style scoped>\n",
       "    .dataframe tbody tr th:only-of-type {\n",
       "        vertical-align: middle;\n",
       "    }\n",
       "\n",
       "    .dataframe tbody tr th {\n",
       "        vertical-align: top;\n",
       "    }\n",
       "\n",
       "    .dataframe thead th {\n",
       "        text-align: right;\n",
       "    }\n",
       "</style>\n",
       "<table border=\"1\" class=\"dataframe\">\n",
       "  <thead>\n",
       "    <tr style=\"text-align: right;\">\n",
       "      <th></th>\n",
       "      <th>Survived</th>\n",
       "      <th>SibSp</th>\n",
       "      <th>Parch</th>\n",
       "    </tr>\n",
       "  </thead>\n",
       "  <tbody>\n",
       "    <tr>\n",
       "      <th>Survived</th>\n",
       "      <td>1.000000</td>\n",
       "      <td>-0.042042</td>\n",
       "      <td>0.076448</td>\n",
       "    </tr>\n",
       "    <tr>\n",
       "      <th>SibSp</th>\n",
       "      <td>-0.042042</td>\n",
       "      <td>1.000000</td>\n",
       "      <td>0.438936</td>\n",
       "    </tr>\n",
       "    <tr>\n",
       "      <th>Parch</th>\n",
       "      <td>0.076448</td>\n",
       "      <td>0.438936</td>\n",
       "      <td>1.000000</td>\n",
       "    </tr>\n",
       "  </tbody>\n",
       "</table>\n",
       "</div>"
      ],
      "text/plain": [
       "          Survived     SibSp     Parch\n",
       "Survived  1.000000 -0.042042  0.076448\n",
       "SibSp    -0.042042  1.000000  0.438936\n",
       "Parch     0.076448  0.438936  1.000000"
      ]
     },
     "execution_count": 290,
     "metadata": {},
     "output_type": "execute_result"
    }
   ],
   "source": [
    "data[['Survived','SibSp','Parch']].corr()"
   ]
  },
  {
   "cell_type": "code",
   "execution_count": 291,
   "metadata": {},
   "outputs": [
    {
     "data": {
      "text/html": [
       "<div>\n",
       "<style scoped>\n",
       "    .dataframe tbody tr th:only-of-type {\n",
       "        vertical-align: middle;\n",
       "    }\n",
       "\n",
       "    .dataframe tbody tr th {\n",
       "        vertical-align: top;\n",
       "    }\n",
       "\n",
       "    .dataframe thead th {\n",
       "        text-align: right;\n",
       "    }\n",
       "</style>\n",
       "<table border=\"1\" class=\"dataframe\">\n",
       "  <thead>\n",
       "    <tr style=\"text-align: right;\">\n",
       "      <th></th>\n",
       "      <th>Survived</th>\n",
       "      <th>SibSp</th>\n",
       "      <th>Parch</th>\n",
       "    </tr>\n",
       "  </thead>\n",
       "  <tbody>\n",
       "    <tr>\n",
       "      <th>Survived</th>\n",
       "      <td>1.000000</td>\n",
       "      <td>0.098872</td>\n",
       "      <td>0.145278</td>\n",
       "    </tr>\n",
       "    <tr>\n",
       "      <th>SibSp</th>\n",
       "      <td>0.098872</td>\n",
       "      <td>1.000000</td>\n",
       "      <td>0.439999</td>\n",
       "    </tr>\n",
       "    <tr>\n",
       "      <th>Parch</th>\n",
       "      <td>0.145278</td>\n",
       "      <td>0.439999</td>\n",
       "      <td>1.000000</td>\n",
       "    </tr>\n",
       "  </tbody>\n",
       "</table>\n",
       "</div>"
      ],
      "text/plain": [
       "          Survived     SibSp     Parch\n",
       "Survived  1.000000  0.098872  0.145278\n",
       "SibSp     0.098872  1.000000  0.439999\n",
       "Parch     0.145278  0.439999  1.000000"
      ]
     },
     "execution_count": 291,
     "metadata": {},
     "output_type": "execute_result"
    }
   ],
   "source": [
    "test=data[['Survived','SibSp','Parch']].copy()\n",
    "\n",
    "def trans(x):\n",
    "    if x==0:\n",
    "        return x\n",
    "    else:\n",
    "        return 1\n",
    "\n",
    "test['SibSp']=test.SibSp.apply(trans)\n",
    "test['Parch']=test.Parch.apply(trans)\n",
    "test.corr()\n"
   ]
  },
  {
   "cell_type": "code",
   "execution_count": 296,
   "metadata": {},
   "outputs": [
    {
     "data": {
      "text/html": [
       "<div>\n",
       "<style scoped>\n",
       "    .dataframe tbody tr th:only-of-type {\n",
       "        vertical-align: middle;\n",
       "    }\n",
       "\n",
       "    .dataframe tbody tr th {\n",
       "        vertical-align: top;\n",
       "    }\n",
       "\n",
       "    .dataframe thead th {\n",
       "        text-align: right;\n",
       "    }\n",
       "</style>\n",
       "<table border=\"1\" class=\"dataframe\">\n",
       "  <thead>\n",
       "    <tr style=\"text-align: right;\">\n",
       "      <th>Survived</th>\n",
       "      <th>0</th>\n",
       "      <th>1</th>\n",
       "      <th>suv_rate</th>\n",
       "    </tr>\n",
       "    <tr>\n",
       "      <th>SibSp</th>\n",
       "      <th></th>\n",
       "      <th></th>\n",
       "      <th></th>\n",
       "    </tr>\n",
       "  </thead>\n",
       "  <tbody>\n",
       "    <tr>\n",
       "      <th>0</th>\n",
       "      <td>297</td>\n",
       "      <td>157</td>\n",
       "      <td>0.345815</td>\n",
       "    </tr>\n",
       "    <tr>\n",
       "      <th>1</th>\n",
       "      <td>76</td>\n",
       "      <td>78</td>\n",
       "      <td>0.506494</td>\n",
       "    </tr>\n",
       "    <tr>\n",
       "      <th>2</th>\n",
       "      <td>12</td>\n",
       "      <td>11</td>\n",
       "      <td>0.478261</td>\n",
       "    </tr>\n",
       "    <tr>\n",
       "      <th>3</th>\n",
       "      <td>7</td>\n",
       "      <td>4</td>\n",
       "      <td>0.363636</td>\n",
       "    </tr>\n",
       "    <tr>\n",
       "      <th>4</th>\n",
       "      <td>11</td>\n",
       "      <td>3</td>\n",
       "      <td>0.214286</td>\n",
       "    </tr>\n",
       "    <tr>\n",
       "      <th>5</th>\n",
       "      <td>5</td>\n",
       "      <td>0</td>\n",
       "      <td>0.000000</td>\n",
       "    </tr>\n",
       "    <tr>\n",
       "      <th>8</th>\n",
       "      <td>7</td>\n",
       "      <td>0</td>\n",
       "      <td>0.000000</td>\n",
       "    </tr>\n",
       "  </tbody>\n",
       "</table>\n",
       "</div>"
      ],
      "text/plain": [
       "Survived    0    1  suv_rate\n",
       "SibSp                       \n",
       "0         297  157  0.345815\n",
       "1          76   78  0.506494\n",
       "2          12   11  0.478261\n",
       "3           7    4  0.363636\n",
       "4          11    3  0.214286\n",
       "5           5    0  0.000000\n",
       "8           7    0  0.000000"
      ]
     },
     "execution_count": 296,
     "metadata": {},
     "output_type": "execute_result"
    }
   ],
   "source": [
    "cross1 = pd.crosstab(data.SibSp,data.Survived)\n",
    "cross1['suv_rate'] = cross1[1]/cross1.sum(axis=1)\n",
    "cross1"
   ]
  },
  {
   "cell_type": "code",
   "execution_count": 297,
   "metadata": {},
   "outputs": [
    {
     "data": {
      "text/plain": [
       "[<matplotlib.lines.Line2D at 0x2bbe517b0>]"
      ]
     },
     "execution_count": 297,
     "metadata": {},
     "output_type": "execute_result"
    },
    {
     "data": {
      "image/png": "[encoded data removed]",
      "text/plain": [
       "<Figure size 640x480 with 1 Axes>"
      ]
     },
     "metadata": {},
     "output_type": "display_data"
    }
   ],
   "source": [
    "plt.plot(\n",
    "    cross1.index,\n",
    "    cross1.suv_rate,\n",
    ")"
   ]
  },
  {
   "cell_type": "code",
   "execution_count": 301,
   "metadata": {},
   "outputs": [
    {
     "data": {
      "text/html": [
       "<div>\n",
       "<style scoped>\n",
       "    .dataframe tbody tr th:only-of-type {\n",
       "        vertical-align: middle;\n",
       "    }\n",
       "\n",
       "    .dataframe tbody tr th {\n",
       "        vertical-align: top;\n",
       "    }\n",
       "\n",
       "    .dataframe thead th {\n",
       "        text-align: right;\n",
       "    }\n",
       "</style>\n",
       "<table border=\"1\" class=\"dataframe\">\n",
       "  <thead>\n",
       "    <tr style=\"text-align: right;\">\n",
       "      <th>Survived</th>\n",
       "      <th>0</th>\n",
       "      <th>1</th>\n",
       "      <th>suv_rate</th>\n",
       "    </tr>\n",
       "    <tr>\n",
       "      <th>SibSp</th>\n",
       "      <th></th>\n",
       "      <th></th>\n",
       "      <th></th>\n",
       "    </tr>\n",
       "  </thead>\n",
       "  <tbody>\n",
       "    <tr>\n",
       "      <th>0</th>\n",
       "      <td>297</td>\n",
       "      <td>157</td>\n",
       "      <td>0.345815</td>\n",
       "    </tr>\n",
       "    <tr>\n",
       "      <th>1</th>\n",
       "      <td>118</td>\n",
       "      <td>96</td>\n",
       "      <td>0.448598</td>\n",
       "    </tr>\n",
       "  </tbody>\n",
       "</table>\n",
       "</div>"
      ],
      "text/plain": [
       "Survived    0    1  suv_rate\n",
       "SibSp                       \n",
       "0         297  157  0.345815\n",
       "1         118   96  0.448598"
      ]
     },
     "execution_count": 301,
     "metadata": {},
     "output_type": "execute_result"
    }
   ],
   "source": [
    "cross1 = pd.crosstab(test.SibSp,test.Survived)\n",
    "cross1['suv_rate'] = cross1[1]/cross1.sum(axis=1)\n",
    "cross1"
   ]
  },
  {
   "cell_type": "code",
   "execution_count": 302,
   "metadata": {},
   "outputs": [
    {
     "data": {
      "text/html": [
       "<div>\n",
       "<style scoped>\n",
       "    .dataframe tbody tr th:only-of-type {\n",
       "        vertical-align: middle;\n",
       "    }\n",
       "\n",
       "    .dataframe tbody tr th {\n",
       "        vertical-align: top;\n",
       "    }\n",
       "\n",
       "    .dataframe thead th {\n",
       "        text-align: right;\n",
       "    }\n",
       "</style>\n",
       "<table border=\"1\" class=\"dataframe\">\n",
       "  <thead>\n",
       "    <tr style=\"text-align: right;\">\n",
       "      <th>Survived</th>\n",
       "      <th>0</th>\n",
       "      <th>1</th>\n",
       "      <th>suv_rate</th>\n",
       "    </tr>\n",
       "    <tr>\n",
       "      <th>Parch</th>\n",
       "      <th></th>\n",
       "      <th></th>\n",
       "      <th></th>\n",
       "    </tr>\n",
       "  </thead>\n",
       "  <tbody>\n",
       "    <tr>\n",
       "      <th>0</th>\n",
       "      <td>338</td>\n",
       "      <td>174</td>\n",
       "      <td>0.339844</td>\n",
       "    </tr>\n",
       "    <tr>\n",
       "      <th>1</th>\n",
       "      <td>38</td>\n",
       "      <td>47</td>\n",
       "      <td>0.552941</td>\n",
       "    </tr>\n",
       "    <tr>\n",
       "      <th>2</th>\n",
       "      <td>32</td>\n",
       "      <td>29</td>\n",
       "      <td>0.475410</td>\n",
       "    </tr>\n",
       "    <tr>\n",
       "      <th>3</th>\n",
       "      <td>0</td>\n",
       "      <td>3</td>\n",
       "      <td>1.000000</td>\n",
       "    </tr>\n",
       "    <tr>\n",
       "      <th>4</th>\n",
       "      <td>3</td>\n",
       "      <td>0</td>\n",
       "      <td>0.000000</td>\n",
       "    </tr>\n",
       "    <tr>\n",
       "      <th>5</th>\n",
       "      <td>3</td>\n",
       "      <td>0</td>\n",
       "      <td>0.000000</td>\n",
       "    </tr>\n",
       "    <tr>\n",
       "      <th>6</th>\n",
       "      <td>1</td>\n",
       "      <td>0</td>\n",
       "      <td>0.000000</td>\n",
       "    </tr>\n",
       "  </tbody>\n",
       "</table>\n",
       "</div>"
      ],
      "text/plain": [
       "Survived    0    1  suv_rate\n",
       "Parch                       \n",
       "0         338  174  0.339844\n",
       "1          38   47  0.552941\n",
       "2          32   29  0.475410\n",
       "3           0    3  1.000000\n",
       "4           3    0  0.000000\n",
       "5           3    0  0.000000\n",
       "6           1    0  0.000000"
      ]
     },
     "execution_count": 302,
     "metadata": {},
     "output_type": "execute_result"
    }
   ],
   "source": [
    "cross2 = pd.crosstab(data.Parch,data.Survived)\n",
    "cross2['suv_rate'] = cross2[1]/cross2.sum(axis=1)\n",
    "cross2"
   ]
  },
  {
   "cell_type": "code",
   "execution_count": 300,
   "metadata": {},
   "outputs": [
    {
     "data": {
      "text/plain": [
       "[<matplotlib.lines.Line2D at 0x2bc821bd0>]"
      ]
     },
     "execution_count": 300,
     "metadata": {},
     "output_type": "execute_result"
    },
    {
     "data": {
      "image/png": "[encoded data removed]",
      "text/plain": [
       "<Figure size 640x480 with 1 Axes>"
      ]
     },
     "metadata": {},
     "output_type": "display_data"
    }
   ],
   "source": [
    "plt.plot(\n",
    "    cross2.index,\n",
    "    cross2.suv_rate,\n",
    ")"
   ]
  },
  {
   "cell_type": "code",
   "execution_count": 294,
   "metadata": {},
   "outputs": [
    {
     "data": {
      "text/html": [
       "<div>\n",
       "<style scoped>\n",
       "    .dataframe tbody tr th:only-of-type {\n",
       "        vertical-align: middle;\n",
       "    }\n",
       "\n",
       "    .dataframe tbody tr th {\n",
       "        vertical-align: top;\n",
       "    }\n",
       "\n",
       "    .dataframe thead th {\n",
       "        text-align: right;\n",
       "    }\n",
       "</style>\n",
       "<table border=\"1\" class=\"dataframe\">\n",
       "  <thead>\n",
       "    <tr style=\"text-align: right;\">\n",
       "      <th>Survived</th>\n",
       "      <th>0</th>\n",
       "      <th>1</th>\n",
       "      <th>suv_rate</th>\n",
       "    </tr>\n",
       "    <tr>\n",
       "      <th>Parch</th>\n",
       "      <th></th>\n",
       "      <th></th>\n",
       "      <th></th>\n",
       "    </tr>\n",
       "  </thead>\n",
       "  <tbody>\n",
       "    <tr>\n",
       "      <th>0</th>\n",
       "      <td>338</td>\n",
       "      <td>174</td>\n",
       "      <td>0.339844</td>\n",
       "    </tr>\n",
       "    <tr>\n",
       "      <th>1</th>\n",
       "      <td>77</td>\n",
       "      <td>79</td>\n",
       "      <td>0.506410</td>\n",
       "    </tr>\n",
       "  </tbody>\n",
       "</table>\n",
       "</div>"
      ],
      "text/plain": [
       "Survived    0    1  suv_rate\n",
       "Parch                       \n",
       "0         338  174  0.339844\n",
       "1          77   79  0.506410"
      ]
     },
     "execution_count": 294,
     "metadata": {},
     "output_type": "execute_result"
    }
   ],
   "source": [
    "cross2 = pd.crosstab(test.Parch,test.Survived)\n",
    "cross2['suv_rate'] = cross2[1]/cross2.sum(axis=1)\n",
    "cross2"
   ]
  },
  {
   "cell_type": "markdown",
   "metadata": {},
   "source": [
    "兄弟・家族は多すぎても良くない、とも解釈できるし、\n",
    "いないよりはいた方が生存率は上がりそう（救助の優先度が上がる？）  \n",
    "2値にするのはちょっとやり過ぎ感？そのまま使う"
   ]
  },
  {
   "cell_type": "markdown",
   "metadata": {},
   "source": [
    "年齢は生存に関わると考えられるため、欠損値補完をして使用する。  \n",
    "ある程度層化して平均を取りたい。  \n",
    "分布を確認  "
   ]
  },
  {
   "cell_type": "code",
   "execution_count": 303,
   "metadata": {},
   "outputs": [
    {
     "data": {
      "text/plain": [
       "<Axes: xlabel='Pclass', ylabel='Age'>"
      ]
     },
     "execution_count": 303,
     "metadata": {},
     "output_type": "execute_result"
    },
    {
     "data": {
      "image/png": "[encoded data removed]",
      "text/plain": [
       "<Figure size 640x480 with 1 Axes>"
      ]
     },
     "metadata": {},
     "output_type": "display_data"
    }
   ],
   "source": [
    "sns.boxplot(\n",
    "    data=data,\n",
    "    x='Pclass',\n",
    "    y='Age',\n",
    "    hue='Sex',\n",
    "    gap=.1,\n",
    ")"
   ]
  },
  {
   "cell_type": "markdown",
   "metadata": {},
   "source": [
    "PclassとSexごとの平均値を使って補完する"
   ]
  },
  {
   "cell_type": "markdown",
   "metadata": {},
   "source": [
    "#### Fareについて"
   ]
  },
  {
   "cell_type": "code",
   "execution_count": 305,
   "metadata": {},
   "outputs": [
    {
     "data": {
      "text/plain": [
       "<Axes: xlabel='Pclass', ylabel='Fare'>"
      ]
     },
     "execution_count": 305,
     "metadata": {},
     "output_type": "execute_result"
    },
    {
     "data": {
      "image/png": "[encoded data removed]",
      "text/plain": [
       "<Figure size 640x480 with 1 Axes>"
      ]
     },
     "metadata": {},
     "output_type": "display_data"
    }
   ],
   "source": [
    "sns.boxplot(\n",
    "    data=data,\n",
    "    y='Fare',\n",
    "    x='Pclass',\n",
    "    hue='Embarked',\n",
    ")"
   ]
  },
  {
   "cell_type": "code",
   "execution_count": 306,
   "metadata": {},
   "outputs": [
    {
     "data": {
      "text/plain": [
       "<Axes: xlabel='Pclass', ylabel='Fare'>"
      ]
     },
     "execution_count": 306,
     "metadata": {},
     "output_type": "execute_result"
    },
    {
     "data": {
      "image/png": "[encoded data removed]",
      "text/plain": [
       "<Figure size 640x480 with 1 Axes>"
      ]
     },
     "metadata": {},
     "output_type": "display_data"
    }
   ],
   "source": [
    "sns.boxplot(\n",
    "    data=data,\n",
    "    y='Fare',\n",
    "    x='Pclass',\n",
    "    hue='Survived',\n",
    ")"
   ]
  },
  {
   "cell_type": "markdown",
   "metadata": {},
   "source": [
    "pclass=1の中でも序列があって、fareはそれを表すっぽいかも。採用する"
   ]
  },
  {
   "cell_type": "markdown",
   "metadata": {},
   "source": [
    "#### Embarked"
   ]
  },
  {
   "cell_type": "code",
   "execution_count": 307,
   "metadata": {},
   "outputs": [
    {
     "data": {
      "text/html": [
       "<div>\n",
       "<style scoped>\n",
       "    .dataframe tbody tr th:only-of-type {\n",
       "        vertical-align: middle;\n",
       "    }\n",
       "\n",
       "    .dataframe tbody tr th {\n",
       "        vertical-align: top;\n",
       "    }\n",
       "\n",
       "    .dataframe thead th {\n",
       "        text-align: right;\n",
       "    }\n",
       "</style>\n",
       "<table border=\"1\" class=\"dataframe\">\n",
       "  <thead>\n",
       "    <tr style=\"text-align: right;\">\n",
       "      <th></th>\n",
       "      <th>Survived</th>\n",
       "    </tr>\n",
       "    <tr>\n",
       "      <th>Embarked</th>\n",
       "      <th></th>\n",
       "    </tr>\n",
       "  </thead>\n",
       "  <tbody>\n",
       "    <tr>\n",
       "      <th>C</th>\n",
       "      <td>0.555556</td>\n",
       "    </tr>\n",
       "    <tr>\n",
       "      <th>Q</th>\n",
       "      <td>0.362069</td>\n",
       "    </tr>\n",
       "    <tr>\n",
       "      <th>S</th>\n",
       "      <td>0.336049</td>\n",
       "    </tr>\n",
       "  </tbody>\n",
       "</table>\n",
       "</div>"
      ],
      "text/plain": [
       "          Survived\n",
       "Embarked          \n",
       "C         0.555556\n",
       "Q         0.362069\n",
       "S         0.336049"
      ]
     },
     "execution_count": 307,
     "metadata": {},
     "output_type": "execute_result"
    }
   ],
   "source": [
    "data[['Survived','Embarked']].groupby('Embarked').sum() / data[['Survived','Embarked']].groupby('Embarked').count()"
   ]
  },
  {
   "cell_type": "code",
   "execution_count": 308,
   "metadata": {},
   "outputs": [
    {
     "data": {
      "text/html": [
       "<div>\n",
       "<style scoped>\n",
       "    .dataframe tbody tr th:only-of-type {\n",
       "        vertical-align: middle;\n",
       "    }\n",
       "\n",
       "    .dataframe tbody tr th {\n",
       "        vertical-align: top;\n",
       "    }\n",
       "\n",
       "    .dataframe thead th {\n",
       "        text-align: right;\n",
       "    }\n",
       "</style>\n",
       "<table border=\"1\" class=\"dataframe\">\n",
       "  <thead>\n",
       "    <tr style=\"text-align: right;\">\n",
       "      <th></th>\n",
       "      <th>Pclass</th>\n",
       "      <th>Name</th>\n",
       "      <th>Sex</th>\n",
       "      <th>Age</th>\n",
       "      <th>SibSp</th>\n",
       "      <th>Parch</th>\n",
       "      <th>Ticket</th>\n",
       "      <th>Fare</th>\n",
       "      <th>Cabin</th>\n",
       "      <th>Survived</th>\n",
       "    </tr>\n",
       "    <tr>\n",
       "      <th>Embarked</th>\n",
       "      <th></th>\n",
       "      <th></th>\n",
       "      <th></th>\n",
       "      <th></th>\n",
       "      <th></th>\n",
       "      <th></th>\n",
       "      <th></th>\n",
       "      <th></th>\n",
       "      <th></th>\n",
       "      <th></th>\n",
       "    </tr>\n",
       "  </thead>\n",
       "  <tbody>\n",
       "    <tr>\n",
       "      <th>C</th>\n",
       "      <td>117</td>\n",
       "      <td>117</td>\n",
       "      <td>117</td>\n",
       "      <td>91</td>\n",
       "      <td>117</td>\n",
       "      <td>117</td>\n",
       "      <td>117</td>\n",
       "      <td>117</td>\n",
       "      <td>44</td>\n",
       "      <td>117</td>\n",
       "    </tr>\n",
       "    <tr>\n",
       "      <th>Q</th>\n",
       "      <td>58</td>\n",
       "      <td>58</td>\n",
       "      <td>58</td>\n",
       "      <td>21</td>\n",
       "      <td>58</td>\n",
       "      <td>58</td>\n",
       "      <td>58</td>\n",
       "      <td>58</td>\n",
       "      <td>3</td>\n",
       "      <td>58</td>\n",
       "    </tr>\n",
       "    <tr>\n",
       "      <th>S</th>\n",
       "      <td>491</td>\n",
       "      <td>491</td>\n",
       "      <td>491</td>\n",
       "      <td>422</td>\n",
       "      <td>491</td>\n",
       "      <td>491</td>\n",
       "      <td>491</td>\n",
       "      <td>491</td>\n",
       "      <td>100</td>\n",
       "      <td>491</td>\n",
       "    </tr>\n",
       "  </tbody>\n",
       "</table>\n",
       "</div>"
      ],
      "text/plain": [
       "          Pclass  Name  Sex  Age  SibSp  Parch  Ticket  Fare  Cabin  Survived\n",
       "Embarked                                                                     \n",
       "C            117   117  117   91    117    117     117   117     44       117\n",
       "Q             58    58   58   21     58     58      58    58      3        58\n",
       "S            491   491  491  422    491    491     491   491    100       491"
      ]
     },
     "execution_count": 308,
     "metadata": {},
     "output_type": "execute_result"
    }
   ],
   "source": [
    "data.groupby(['Embarked']).count()"
   ]
  },
  {
   "cell_type": "markdown",
   "metadata": {},
   "source": [
    "訓練データ内だとCから乗った人の生存率が高く出ているが、なんか擬似相関っぽい  \n",
    "とはいえ、明確に相関がある他の特徴量がなく、異なる特徴（例えば土地柄、とか？）を表す可能性は捨てきれないので、カテゴリカルとして使用する。"
   ]
  },
  {
   "cell_type": "markdown",
   "metadata": {},
   "source": [
    "### ここまでのまとめ\n",
    "\n",
    "特徴量\n",
    "\n",
    "- Pclass ダミー変数化\n",
    "- Sex ダミー変数化\n",
    "- Age PclassとSexで層化平均補正\n",
    "- SibSp ２値変換\n",
    "- Parch ２値変換\n",
    "- Fare\n",
    "- Embarked ダミー変数化"
   ]
  },
  {
   "cell_type": "code",
   "execution_count": 316,
   "metadata": {},
   "outputs": [
    {
     "name": "stdout",
     "output_type": "stream",
     "text": [
      "<class 'pandas.core.frame.DataFrame'>\n",
      "RangeIndex: 668 entries, 0 to 667\n",
      "Data columns (total 11 columns):\n",
      " #   Column    Non-Null Count  Dtype \n",
      "---  ------    --------------  ----- \n",
      " 0   Pclass    668 non-null    object\n",
      " 1   Name      668 non-null    object\n",
      " 2   Sex       668 non-null    object\n",
      " 3   Age       536 non-null    object\n",
      " 4   SibSp     668 non-null    object\n",
      " 5   Parch     668 non-null    object\n",
      " 6   Ticket    668 non-null    object\n",
      " 7   Fare      668 non-null    object\n",
      " 8   Cabin     149 non-null    object\n",
      " 9   Embarked  666 non-null    object\n",
      " 10  Survived  668 non-null    int64 \n",
      "dtypes: int64(1), object(10)\n",
      "memory usage: 57.5+ KB\n"
     ]
    }
   ],
   "source": [
    "data.info()"
   ]
  },
  {
   "cell_type": "code",
   "execution_count": 341,
   "metadata": {},
   "outputs": [
    {
     "data": {
      "text/html": [
       "<div>\n",
       "<style scoped>\n",
       "    .dataframe tbody tr th:only-of-type {\n",
       "        vertical-align: middle;\n",
       "    }\n",
       "\n",
       "    .dataframe tbody tr th {\n",
       "        vertical-align: top;\n",
       "    }\n",
       "\n",
       "    .dataframe thead th {\n",
       "        text-align: right;\n",
       "    }\n",
       "</style>\n",
       "<table border=\"1\" class=\"dataframe\">\n",
       "  <thead>\n",
       "    <tr style=\"text-align: right;\">\n",
       "      <th></th>\n",
       "      <th>Pclass</th>\n",
       "      <th>Name</th>\n",
       "      <th>Sex</th>\n",
       "      <th>Age</th>\n",
       "      <th>SibSp</th>\n",
       "      <th>Parch</th>\n",
       "      <th>Ticket</th>\n",
       "      <th>Fare</th>\n",
       "      <th>Cabin</th>\n",
       "      <th>Embarked</th>\n",
       "      <th>Survived</th>\n",
       "      <th>Avg_age</th>\n",
       "    </tr>\n",
       "  </thead>\n",
       "  <tbody>\n",
       "  </tbody>\n",
       "</table>\n",
       "</div>"
      ],
      "text/plain": [
       "Empty DataFrame\n",
       "Columns: [Pclass, Name, Sex, Age, SibSp, Parch, Ticket, Fare, Cabin, Embarked, Survived, Avg_age]\n",
       "Index: []"
      ]
     },
     "execution_count": 341,
     "metadata": {},
     "output_type": "execute_result"
    }
   ],
   "source": [
    "# 年齢補完\n",
    "avg_age = data.loc[~data.Age.isna()].groupby(['Pclass','Sex']).Age.mean()\n",
    "avg_age = avg_age.reset_index().rename(columns={'Age':'Avg_age'})\n",
    "data_ = pd.merge(\n",
    "    left=data,\n",
    "    right=avg_age,\n",
    "    on=['Pclass','Sex'],\n",
    "    how='left'\n",
    ")\n",
    "data_['Age'] = data_.Age.astype(float).fillna(data_.Avg_age.astype(float))\n",
    "data_[data_.Age.isna()].head()"
   ]
  },
  {
   "cell_type": "code",
   "execution_count": 342,
   "metadata": {},
   "outputs": [],
   "source": [
    "# Embarkedは最頻値で補完\n",
    "data_['Embarked']=data_['Embarked'].fillna(data_['Embarked'].mode()[0])"
   ]
  },
  {
   "cell_type": "code",
   "execution_count": 343,
   "metadata": {},
   "outputs": [],
   "source": [
    "accept = [\n",
    "    'Survived',\n",
    "    'Pclass',\n",
    "    'Sex',\n",
    "    'Age',\n",
    "    'SibSp',\n",
    "    'Parch',\n",
    "    'Fare',\n",
    "    'Embarked',\n",
    "]\n",
    "cleaned_data = data_[accept].copy()"
   ]
  },
  {
   "cell_type": "code",
   "execution_count": 344,
   "metadata": {},
   "outputs": [
    {
     "name": "stdout",
     "output_type": "stream",
     "text": [
      "<class 'pandas.core.frame.DataFrame'>\n",
      "RangeIndex: 668 entries, 0 to 667\n",
      "Data columns (total 8 columns):\n",
      " #   Column    Non-Null Count  Dtype  \n",
      "---  ------    --------------  -----  \n",
      " 0   Survived  668 non-null    int64  \n",
      " 1   Pclass    668 non-null    object \n",
      " 2   Sex       668 non-null    object \n",
      " 3   Age       668 non-null    float64\n",
      " 4   SibSp     668 non-null    float64\n",
      " 5   Parch     668 non-null    float64\n",
      " 6   Fare      668 non-null    float64\n",
      " 7   Embarked  668 non-null    object \n",
      "dtypes: float64(4), int64(1), object(3)\n",
      "memory usage: 41.9+ KB\n"
     ]
    }
   ],
   "source": [
    "cleaned_data['SibSp'] = cleaned_data.SibSp.astype(float)\n",
    "cleaned_data['Parch'] = cleaned_data.Parch.astype(float)\n",
    "cleaned_data['Fare'] = cleaned_data.Fare.astype(float)\n",
    "cleaned_data.info()"
   ]
  },
  {
   "cell_type": "code",
   "execution_count": 345,
   "metadata": {},
   "outputs": [
    {
     "data": {
      "text/html": [
       "<div>\n",
       "<style scoped>\n",
       "    .dataframe tbody tr th:only-of-type {\n",
       "        vertical-align: middle;\n",
       "    }\n",
       "\n",
       "    .dataframe tbody tr th {\n",
       "        vertical-align: top;\n",
       "    }\n",
       "\n",
       "    .dataframe thead th {\n",
       "        text-align: right;\n",
       "    }\n",
       "</style>\n",
       "<table border=\"1\" class=\"dataframe\">\n",
       "  <thead>\n",
       "    <tr style=\"text-align: right;\">\n",
       "      <th></th>\n",
       "      <th>Survived</th>\n",
       "      <th>Age</th>\n",
       "      <th>SibSp</th>\n",
       "      <th>Parch</th>\n",
       "      <th>Fare</th>\n",
       "      <th>Pclass_2</th>\n",
       "      <th>Pclass_3</th>\n",
       "      <th>Sex_male</th>\n",
       "      <th>Embarked_Q</th>\n",
       "      <th>Embarked_S</th>\n",
       "    </tr>\n",
       "  </thead>\n",
       "  <tbody>\n",
       "    <tr>\n",
       "      <th>0</th>\n",
       "      <td>1.0</td>\n",
       "      <td>40.770286</td>\n",
       "      <td>0.0</td>\n",
       "      <td>0.0</td>\n",
       "      <td>30.5000</td>\n",
       "      <td>0.0</td>\n",
       "      <td>0.0</td>\n",
       "      <td>1.0</td>\n",
       "      <td>0.0</td>\n",
       "      <td>1.0</td>\n",
       "    </tr>\n",
       "    <tr>\n",
       "      <th>1</th>\n",
       "      <td>0.0</td>\n",
       "      <td>25.000000</td>\n",
       "      <td>0.0</td>\n",
       "      <td>0.0</td>\n",
       "      <td>7.0500</td>\n",
       "      <td>0.0</td>\n",
       "      <td>1.0</td>\n",
       "      <td>1.0</td>\n",
       "      <td>0.0</td>\n",
       "      <td>1.0</td>\n",
       "    </tr>\n",
       "    <tr>\n",
       "      <th>2</th>\n",
       "      <td>1.0</td>\n",
       "      <td>24.000000</td>\n",
       "      <td>0.0</td>\n",
       "      <td>2.0</td>\n",
       "      <td>14.5000</td>\n",
       "      <td>1.0</td>\n",
       "      <td>0.0</td>\n",
       "      <td>0.0</td>\n",
       "      <td>0.0</td>\n",
       "      <td>1.0</td>\n",
       "    </tr>\n",
       "    <tr>\n",
       "      <th>3</th>\n",
       "      <td>0.0</td>\n",
       "      <td>22.000000</td>\n",
       "      <td>0.0</td>\n",
       "      <td>0.0</td>\n",
       "      <td>7.5208</td>\n",
       "      <td>0.0</td>\n",
       "      <td>1.0</td>\n",
       "      <td>1.0</td>\n",
       "      <td>0.0</td>\n",
       "      <td>1.0</td>\n",
       "    </tr>\n",
       "    <tr>\n",
       "      <th>4</th>\n",
       "      <td>1.0</td>\n",
       "      <td>0.920000</td>\n",
       "      <td>1.0</td>\n",
       "      <td>2.0</td>\n",
       "      <td>151.5500</td>\n",
       "      <td>0.0</td>\n",
       "      <td>0.0</td>\n",
       "      <td>1.0</td>\n",
       "      <td>0.0</td>\n",
       "      <td>1.0</td>\n",
       "    </tr>\n",
       "  </tbody>\n",
       "</table>\n",
       "</div>"
      ],
      "text/plain": [
       "   Survived        Age  SibSp  Parch      Fare  Pclass_2  Pclass_3  Sex_male  \\\n",
       "0       1.0  40.770286    0.0    0.0   30.5000       0.0       0.0       1.0   \n",
       "1       0.0  25.000000    0.0    0.0    7.0500       0.0       1.0       1.0   \n",
       "2       1.0  24.000000    0.0    2.0   14.5000       1.0       0.0       0.0   \n",
       "3       0.0  22.000000    0.0    0.0    7.5208       0.0       1.0       1.0   \n",
       "4       1.0   0.920000    1.0    2.0  151.5500       0.0       0.0       1.0   \n",
       "\n",
       "   Embarked_Q  Embarked_S  \n",
       "0         0.0         1.0  \n",
       "1         0.0         1.0  \n",
       "2         0.0         1.0  \n",
       "3         0.0         1.0  \n",
       "4         0.0         1.0  "
      ]
     },
     "execution_count": 345,
     "metadata": {},
     "output_type": "execute_result"
    }
   ],
   "source": [
    "fix_data = pd.get_dummies(cleaned_data,drop_first=True).astype(float)\n",
    "fix_data.head()"
   ]
  },
  {
   "cell_type": "markdown",
   "metadata": {},
   "source": [
    "### モデリング"
   ]
  },
  {
   "cell_type": "code",
   "execution_count": 370,
   "metadata": {},
   "outputs": [],
   "source": [
    "from sklearn.model_selection import GridSearchCV\n",
    "from sklearn.preprocessing import StandardScaler\n",
    "from sklearn.preprocessing import PolynomialFeatures\n",
    "from sklearn.linear_model import LogisticRegression\n",
    "from sklearn.metrics import roc_auc_score\n",
    "from sklearn.svm import SVC"
   ]
  },
  {
   "cell_type": "code",
   "execution_count": 426,
   "metadata": {},
   "outputs": [],
   "source": [
    "feature_names = fix_data.columns[1:]"
   ]
  },
  {
   "cell_type": "code",
   "execution_count": 356,
   "metadata": {},
   "outputs": [],
   "source": [
    "X_trainval_treated = np.array(fix_data.loc[:,'Age':])\n",
    "y_trainval_treated = np.array(fix_data['Survived'])"
   ]
  },
  {
   "cell_type": "code",
   "execution_count": 374,
   "metadata": {},
   "outputs": [],
   "source": [
    "X_train, X_valid, y_train, y_valid = train_test_split(\n",
    "    X_trainval_treated,\n",
    "    y_trainval_treated,\n",
    "    random_state=42,\n",
    "    )"
   ]
  },
  {
   "cell_type": "code",
   "execution_count": 380,
   "metadata": {},
   "outputs": [],
   "source": [
    "scaler = StandardScaler()\n",
    "X_train_scaled = scaler.fit_transform(X_train)\n",
    "X_valid_scaled = scaler.transform(X_valid)"
   ]
  },
  {
   "cell_type": "code",
   "execution_count": 376,
   "metadata": {},
   "outputs": [
    {
     "data": {
      "image/png": "[encoded data removed]",
      "text/plain": [
       "<Figure size 640x480 with 1 Axes>"
      ]
     },
     "metadata": {},
     "output_type": "display_data"
    }
   ],
   "source": [
    "plt.boxplot(X_train_scaled)\n",
    "plt.show()"
   ]
  },
  {
   "cell_type": "code",
   "execution_count": 381,
   "metadata": {},
   "outputs": [],
   "source": [
    "poly = PolynomialFeatures(degree=2).fit(X_train_scaled)\n",
    "X_train_poly =poly.transform(X_train_scaled)\n",
    "X_valid_poly =poly.transform(X_valid_scaled)"
   ]
  },
  {
   "cell_type": "code",
   "execution_count": 382,
   "metadata": {},
   "outputs": [
    {
     "name": "stdout",
     "output_type": "stream",
     "text": [
      "origin : (501, 9)\n",
      "poly   : (501, 55)\n"
     ]
    }
   ],
   "source": [
    "print(f'origin : {X_train_scaled.shape}')\n",
    "print(f'poly   : {X_train_poly.shape}')"
   ]
  },
  {
   "cell_type": "code",
   "execution_count": 384,
   "metadata": {},
   "outputs": [
    {
     "data": {
      "text/plain": [
       "(167,)"
      ]
     },
     "execution_count": 384,
     "metadata": {},
     "output_type": "execute_result"
    }
   ],
   "source": [
    "y_valid.shape"
   ]
  },
  {
   "cell_type": "code",
   "execution_count": 437,
   "metadata": {},
   "outputs": [
    {
     "name": "stdout",
     "output_type": "stream",
     "text": [
      "poly_L2\n",
      "train_acc : 0.836\n",
      "valid_acc : 0.808\n",
      "valid_auc : 0.897\n"
     ]
    }
   ],
   "source": [
    "logreg = LogisticRegression().fit(X_train_poly,y_train)\n",
    "print('poly_L2')\n",
    "print(f'train_acc : {logreg.score(X_train_poly,y_train):.3f}')\n",
    "print(f'valid_acc : {logreg.score(X_valid_poly,y_valid):.3f}')\n",
    "print(f'valid_auc : {roc_auc_score(y_valid, logreg.predict_proba(X_valid_poly)[:,1]):.3f}')\n"
   ]
  },
  {
   "cell_type": "code",
   "execution_count": 396,
   "metadata": {},
   "outputs": [
    {
     "name": "stdout",
     "output_type": "stream",
     "text": [
      "origin\n",
      "train_acc : 0.812\n",
      "valid_acc : 0.832\n",
      "valid_auc : 0.866\n"
     ]
    }
   ],
   "source": [
    "logreg = LogisticRegression(max_iter=2000).fit(X_train,y_train)\n",
    "print('origin')\n",
    "print(f'train_acc : {logreg.score(X_train,y_train):.3f}')\n",
    "print(f'valid_acc : {logreg.score(X_valid,y_valid):.3f}')\n",
    "print(f'valid_auc : {roc_auc_score(y_valid, logreg.predict_proba(X_valid)[:,1]):.3f}')\n",
    "\n"
   ]
  },
  {
   "cell_type": "code",
   "execution_count": 438,
   "metadata": {},
   "outputs": [
    {
     "name": "stdout",
     "output_type": "stream",
     "text": [
      "poly_L1\n",
      "train_acc : 0.836\n",
      "valid_acc : 0.814\n",
      "valid_auc : 0.891\n"
     ]
    }
   ],
   "source": [
    "logreg = LogisticRegression(penalty='l1',solver='liblinear').fit(X_train_poly,y_train)\n",
    "print('poly_L1')\n",
    "print(f'train_acc : {logreg.score(X_train_poly,y_train):.3f}')\n",
    "print(f'valid_acc : {logreg.score(X_valid_poly,y_valid):.3f}')\n",
    "print(f'valid_auc : {roc_auc_score(y_valid, logreg.predict_proba(X_valid_poly)[:,1]):.3f}')\n"
   ]
  },
  {
   "cell_type": "code",
   "execution_count": 428,
   "metadata": {},
   "outputs": [
    {
     "data": {
      "text/plain": [
       "array([['1', 'Age', 'SibSp', 'Parch', 'Fare', 'Pclass_2', 'Pclass_3',\n",
       "        'Sex_male', 'Embarked_Q', 'Embarked_S', 'Age^2', 'Age SibSp',\n",
       "        'Age Parch', 'Age Fare', 'Age Pclass_2', 'Age Pclass_3',\n",
       "        'Age Sex_male', 'Age Embarked_Q', 'Age Embarked_S', 'SibSp^2',\n",
       "        'SibSp Parch', 'SibSp Fare', 'SibSp Pclass_2', 'SibSp Pclass_3',\n",
       "        'SibSp Sex_male', 'SibSp Embarked_Q', 'SibSp Embarked_S',\n",
       "        'Parch^2', 'Parch Fare', 'Parch Pclass_2', 'Parch Pclass_3',\n",
       "        'Parch Sex_male', 'Parch Embarked_Q', 'Parch Embarked_S',\n",
       "        'Fare^2', 'Fare Pclass_2', 'Fare Pclass_3', 'Fare Sex_male',\n",
       "        'Fare Embarked_Q', 'Fare Embarked_S', 'Pclass_2^2',\n",
       "        'Pclass_2 Pclass_3', 'Pclass_2 Sex_male', 'Pclass_2 Embarked_Q',\n",
       "        'Pclass_2 Embarked_S', 'Pclass_3^2', 'Pclass_3 Sex_male',\n",
       "        'Pclass_3 Embarked_Q', 'Pclass_3 Embarked_S', 'Sex_male^2',\n",
       "        'Sex_male Embarked_Q', 'Sex_male Embarked_S', 'Embarked_Q^2',\n",
       "        'Embarked_Q Embarked_S', 'Embarked_S^2']], dtype=object)"
      ]
     },
     "execution_count": 428,
     "metadata": {},
     "output_type": "execute_result"
    }
   ],
   "source": [
    "poly.get_feature_names_out(input_features=feature_names).reshape(1,-1)"
   ]
  },
  {
   "cell_type": "code",
   "execution_count": 408,
   "metadata": {},
   "outputs": [
    {
     "data": {
      "text/plain": [
       "(55,)"
      ]
     },
     "execution_count": 408,
     "metadata": {},
     "output_type": "execute_result"
    }
   ],
   "source": [
    "logreg.coef_[0].shape"
   ]
  },
  {
   "cell_type": "code",
   "execution_count": 435,
   "metadata": {},
   "outputs": [
    {
     "data": {
      "image/png": "[encoded data removed]",
      "text/plain": [
       "<Figure size 500x1500 with 1 Axes>"
      ]
     },
     "metadata": {},
     "output_type": "display_data"
    }
   ],
   "source": [
    "plt.figure(figsize=(5,15))\n",
    "plt.plot(\n",
    "    logreg.coef_[0],\n",
    "    poly.get_feature_names_out(input_features=feature_names),\n",
    "    )\n",
    "# plt.xticks(rotation=90)\n",
    "plt.show()"
   ]
  },
  {
   "cell_type": "code",
   "execution_count": 436,
   "metadata": {},
   "outputs": [
    {
     "name": "stdout",
     "output_type": "stream",
     "text": [
      "Age\n",
      "Pclass_3\n",
      "Sex_male\n",
      "Embarked_S\n",
      "Age^2\n",
      "Age SibSp\n",
      "Age Parch\n",
      "Age Fare\n",
      "Age Sex_male\n",
      "Age Embarked_Q\n",
      "Age Embarked_S\n",
      "SibSp^2\n",
      "SibSp Parch\n",
      "SibSp Sex_male\n",
      "SibSp Embarked_Q\n",
      "SibSp Embarked_S\n",
      "Parch^2\n",
      "Parch Fare\n",
      "Parch Sex_male\n",
      "Parch Embarked_Q\n",
      "Parch Embarked_S\n",
      "Fare^2\n",
      "Fare Pclass_3\n",
      "Fare Sex_male\n",
      "Fare Embarked_S\n",
      "Pclass_2 Pclass_3\n",
      "Pclass_2 Sex_male\n",
      "Pclass_3 Sex_male\n",
      "Pclass_3 Embarked_Q\n",
      "Sex_male Embarked_Q\n",
      "Sex_male Embarked_S\n",
      "Embarked_Q^2\n"
     ]
    }
   ],
   "source": [
    "accepted_features = poly.get_feature_names_out(\n",
    "    input_features=feature_names\n",
    "    )[np.abs(logreg.coef_[0])!=0]\n",
    "\n",
    "for n in accepted_features:\n",
    "    print(n)"
   ]
  },
  {
   "cell_type": "code",
   "execution_count": 421,
   "metadata": {},
   "outputs": [
    {
     "data": {
      "text/plain": [
       "['Pclass',\n",
       " 'Name',\n",
       " 'Sex',\n",
       " 'Age',\n",
       " 'SibSp',\n",
       " 'Parch',\n",
       " 'Ticket',\n",
       " 'Fare',\n",
       " 'Cabin',\n",
       " 'Embarked']"
      ]
     },
     "execution_count": 421,
     "metadata": {},
     "output_type": "execute_result"
    }
   ],
   "source": [
    "feature_names"
   ]
  },
  {
   "cell_type": "code",
   "execution_count": 388,
   "metadata": {},
   "outputs": [
    {
     "data": {
      "text/plain": [
       "array([9.09022774e-02, 1.42642165e-01, 2.82122761e-01, 2.50469607e-01,\n",
       "       2.29986850e-01, 1.34305273e-01, 9.74672470e-01, 9.92116946e-01,\n",
       "       4.20794905e-02, 1.16122663e-01, 1.99897656e-01, 2.87977266e-01,\n",
       "       1.01097306e-01, 9.44211375e-01, 4.38533705e-01, 1.26802790e-01,\n",
       "       6.53773435e-01, 1.24424217e-01, 9.68112532e-01, 1.33898525e-01,\n",
       "       1.70111987e-01, 1.07167703e-01, 1.07268438e-01, 9.33746514e-02,\n",
       "       3.02974510e-01, 9.72056434e-01, 9.63154601e-01, 1.33602643e-01,\n",
       "       1.21194160e-01, 9.84149519e-02, 9.69855943e-01, 3.60774150e-01,\n",
       "       4.46586012e-01, 2.00541207e-01, 1.24101172e-01, 2.20231779e-01,\n",
       "       2.94586021e-01, 1.32532944e-01, 1.34305273e-01, 1.61232798e-01,\n",
       "       9.72963124e-01, 9.83054876e-01, 3.29230768e-01, 1.06698244e-01,\n",
       "       1.53402061e-01, 1.02109432e-01, 8.58739022e-01, 1.01971741e-01,\n",
       "       1.17135401e-01, 1.14729888e-01, 6.43588223e-02, 1.24101172e-01,\n",
       "       1.65171794e-01, 7.29934010e-01, 9.74275898e-01, 3.02178632e-01,\n",
       "       1.24020921e-01, 8.98945402e-01, 9.83113387e-01, 2.05881312e-01,\n",
       "       1.01971741e-01, 3.95329597e-01, 9.72909575e-01, 1.34305273e-01,\n",
       "       6.61684128e-01, 5.38972535e-01, 1.40843180e-01, 6.98251116e-02,\n",
       "       1.20670783e-02, 3.79281898e-01, 1.02125788e-01, 2.14957698e-01,\n",
       "       9.89825349e-01, 1.60821693e-01, 5.64093104e-01, 9.64779428e-01,\n",
       "       1.89260755e-01, 8.04555185e-02, 1.34302573e-01, 1.61402248e-01,\n",
       "       6.60693657e-01, 5.45126424e-04, 9.98257167e-01, 1.27854058e-01,\n",
       "       9.80403244e-01, 1.34302573e-01, 1.06177497e-01, 9.72185417e-01,\n",
       "       8.53863852e-01, 2.99430492e-01, 7.67521907e-02, 8.01478721e-01,\n",
       "       1.07665635e-01, 2.69341805e-01, 9.64499272e-02, 2.68643492e-01,\n",
       "       9.50271448e-01, 9.93455990e-01, 1.04127221e-01, 4.08817121e-01,\n",
       "       9.48348741e-02, 2.73076103e-01, 1.07268438e-01, 1.28243523e-01,\n",
       "       4.87310881e-01, 1.64944829e-01, 9.67705947e-01, 3.60089046e-01,\n",
       "       8.90824554e-02, 9.19148310e-02, 1.24020921e-01, 2.02690755e-01,\n",
       "       1.24020921e-01, 4.27743223e-01, 3.33142876e-01, 1.51125157e-01,\n",
       "       8.09230446e-02, 9.75905802e-01, 3.16107160e-01, 8.04271953e-01,\n",
       "       3.76187326e-01, 1.26715492e-01, 1.23721255e-01, 9.28734768e-01,\n",
       "       6.93525995e-03, 1.01971741e-01, 1.26725828e-01, 6.60661767e-01,\n",
       "       9.91601008e-01, 9.61188459e-01, 2.99660309e-01, 3.63739248e-01,\n",
       "       1.24101172e-01, 9.95325941e-01, 7.23098473e-02, 6.60693657e-01,\n",
       "       3.59321682e-01, 1.79277740e-01, 1.34305273e-01, 9.61611819e-01,\n",
       "       2.31613695e-01, 3.70287852e-01, 2.92428421e-01, 1.53179386e-01,\n",
       "       9.60461108e-01, 9.00250038e-01, 8.97607963e-01, 3.02900752e-01,\n",
       "       9.80522873e-01, 1.53179386e-01, 1.61540873e-01, 4.77245419e-02,\n",
       "       3.61920028e-01, 1.75741198e-01, 1.36557565e-01, 7.90836203e-01,\n",
       "       9.78022286e-01, 4.09576036e-01, 1.71530476e-01, 1.24101172e-01,\n",
       "       5.79390701e-02, 3.92595858e-01, 2.71273050e-01, 4.30549223e-01,\n",
       "       1.79449664e-01, 1.22745646e-01, 1.61374905e-01, 9.98203989e-01,\n",
       "       4.01464881e-01, 6.19446313e-02, 9.75301617e-01, 5.72328126e-01,\n",
       "       9.68760948e-01, 6.60385631e-01, 9.91067066e-01, 9.08562249e-02,\n",
       "       2.66657317e-01, 9.99999998e-01, 9.93454920e-01, 9.76528368e-01,\n",
       "       9.94096601e-01, 9.66182123e-01, 8.66085656e-01, 9.06196310e-02,\n",
       "       1.10136026e-01, 1.43704354e-01, 2.37677722e-02, 1.12702371e-01,\n",
       "       1.66690856e-01, 9.29267824e-01, 1.53253336e-01, 2.97005408e-01,\n",
       "       7.92345264e-02, 1.38735678e-01, 8.15606861e-02, 2.37627067e-01,\n",
       "       8.37319300e-01, 9.97372973e-01, 2.20231779e-01, 2.53589029e-01,\n",
       "       9.57239040e-01, 1.30809732e-01, 2.16710685e-01, 1.24877055e-01,\n",
       "       6.69417637e-01, 9.76255954e-01, 9.58628454e-01, 1.01971741e-01,\n",
       "       1.03090302e-01, 1.01974524e-01, 1.26665840e-01, 1.15519727e-01,\n",
       "       7.65737477e-01, 1.22373554e-01, 1.47579624e-01, 9.75484334e-01,\n",
       "       3.61920028e-01, 9.98242058e-02, 3.85846072e-01, 1.79262330e-01,\n",
       "       7.38547418e-01, 9.06151147e-01, 7.16640041e-02, 1.38991861e-01,\n",
       "       2.66332659e-01, 9.08698579e-01, 9.90249440e-01, 5.42534107e-01,\n",
       "       2.66928799e-01, 2.83493963e-01, 7.20334718e-02, 9.65249523e-01,\n",
       "       1.25779148e-01, 1.00472978e-01, 1.59142747e-01, 1.17135401e-01,\n",
       "       9.94592629e-02, 2.53830509e-01, 6.87715029e-01, 8.18153355e-02,\n",
       "       1.41622138e-01, 1.58656539e-01, 1.81447481e-01, 1.44678167e-01,\n",
       "       9.80895275e-02, 7.46263163e-01, 9.83269864e-01, 5.57567652e-01,\n",
       "       8.42436693e-02, 1.37350708e-02, 3.65914946e-01, 7.45936681e-02,\n",
       "       9.14147436e-01, 8.93267985e-02, 9.74573473e-01, 6.59282300e-01,\n",
       "       2.08978837e-01, 7.15553564e-01, 1.16180642e-01, 1.34302573e-01,\n",
       "       9.95098155e-02, 9.91738965e-01, 9.93565182e-02, 9.24050806e-02,\n",
       "       9.02314408e-02, 1.53402061e-01, 7.67674989e-02, 2.03593476e-01,\n",
       "       1.80193063e-01, 1.26725828e-01, 8.60633652e-02, 3.92575711e-01,\n",
       "       3.31531627e-01, 9.86871111e-01, 1.34302573e-01, 7.90948472e-02,\n",
       "       2.15781942e-01, 9.38947006e-01, 1.08773405e-01, 1.02582335e-01,\n",
       "       7.16566953e-02, 8.09230446e-02, 9.61555935e-01, 2.06106789e-01,\n",
       "       2.65489765e-01, 1.42972016e-01, 1.53145742e-01, 8.71543474e-02,\n",
       "       9.78605400e-01, 1.40136937e-01, 5.64372222e-01, 9.62560047e-01,\n",
       "       1.24020921e-01, 1.53791131e-01, 3.46599832e-01, 8.74813085e-02,\n",
       "       9.86897420e-01, 1.01971741e-01, 2.74251783e-01, 2.63755392e-01,\n",
       "       8.18198279e-01, 3.91287163e-01, 9.74075337e-01, 2.67711242e-01,\n",
       "       4.50951105e-01, 1.37350708e-02, 1.79483776e-01, 4.26695580e-01,\n",
       "       8.97607963e-01, 1.04507711e-01, 1.24020921e-01, 9.48539545e-01,\n",
       "       3.77777408e-02, 3.36262191e-01, 9.99872872e-01, 6.60693657e-01,\n",
       "       6.61244309e-01, 9.80274739e-01, 1.05261927e-01, 2.29986850e-01,\n",
       "       9.62659374e-01, 1.34302573e-01, 5.45126424e-04, 1.73603294e-01,\n",
       "       7.71344205e-03, 3.50515219e-02, 3.61414104e-01, 8.03298844e-02,\n",
       "       7.03749031e-02, 9.09314113e-02, 1.89251639e-01, 3.41161246e-03,\n",
       "       5.33656274e-02, 7.84785180e-03, 6.60693657e-01, 1.16477285e-01,\n",
       "       9.82690984e-01, 1.32643190e-01, 1.62697459e-01, 1.61347883e-01,\n",
       "       3.73870077e-01, 8.45014843e-02, 5.14516029e-02, 3.87191137e-01,\n",
       "       1.24101172e-01, 9.97294184e-01, 1.26721698e-01, 4.05178289e-01,\n",
       "       3.23544846e-01, 9.60958464e-02, 5.45126424e-04, 5.44951195e-02,\n",
       "       2.54860418e-01, 9.75536717e-01, 9.56787602e-01, 3.89546885e-01,\n",
       "       1.89261347e-01, 9.06151147e-01, 3.93600915e-01, 1.71215995e-01,\n",
       "       4.72885440e-01, 9.74573473e-01, 8.22035391e-01, 1.20265888e-01,\n",
       "       1.65171794e-01, 6.61023495e-01, 1.24101172e-01, 3.46714566e-01,\n",
       "       1.65171794e-01, 9.08076173e-01, 3.55073987e-01, 2.65355139e-01,\n",
       "       6.33638499e-01, 9.97764760e-01, 8.60427202e-01, 1.19691836e-01,\n",
       "       9.76295409e-01, 9.13743559e-01, 2.92365835e-01, 9.67456238e-01,\n",
       "       9.52480640e-02, 3.95458373e-01, 1.57619948e-01, 3.64872599e-01,\n",
       "       6.31327859e-01, 9.85567630e-01, 1.20265888e-01, 1.23958355e-01,\n",
       "       2.73076103e-01, 2.00641144e-01, 3.81263456e-01, 3.29375958e-01,\n",
       "       1.61346981e-01, 9.95992885e-02, 9.19320669e-02, 8.50485261e-01,\n",
       "       5.02803100e-01, 1.20757770e-01, 9.84549660e-02, 1.24546748e-01,\n",
       "       4.67812640e-01, 7.04725681e-02, 2.14957698e-01, 1.60646331e-01,\n",
       "       9.52946275e-01, 1.05261927e-01, 8.60427202e-01, 3.68062948e-01,\n",
       "       1.87021993e-01, 9.72909575e-01, 1.56481502e-01, 1.02303365e-01,\n",
       "       1.17419320e-01, 9.64248049e-01, 7.88029475e-02, 1.85254891e-01,\n",
       "       3.55411855e-01, 1.33878432e-01, 1.21668155e-01, 9.49550078e-01,\n",
       "       9.66643284e-02, 1.33878432e-01, 1.65171794e-01, 1.11591157e-01,\n",
       "       1.33116256e-01, 1.23689511e-01, 9.54552147e-01, 2.74290758e-01,\n",
       "       1.70254079e-01, 4.22461497e-02, 1.03192775e-01, 9.94889552e-02,\n",
       "       1.19333420e-01, 9.65725872e-01, 1.74102326e-01, 2.11166523e-01,\n",
       "       2.91726679e-01, 9.84973304e-01, 9.73108070e-02, 1.32268531e-01,\n",
       "       3.45766853e-01, 1.79270000e-01, 1.73490914e-01, 9.98112716e-01,\n",
       "       9.95169744e-01, 1.24101172e-01, 3.89641974e-01, 1.65171794e-01,\n",
       "       1.60640426e-01, 7.37549120e-02, 1.24101172e-01, 4.10881453e-01,\n",
       "       5.90301903e-02, 2.13109164e-01, 9.98633256e-01, 1.30339296e-01,\n",
       "       1.69989022e-01, 2.25580080e-01, 1.71530476e-01, 5.17327735e-04,\n",
       "       9.82869496e-02, 3.59240789e-01, 1.79288088e-01, 6.28601995e-01,\n",
       "       3.01200345e-02, 9.76550783e-01, 2.57666216e-01, 9.73338368e-01,\n",
       "       3.42895226e-01, 4.54092125e-01, 1.69880472e-01, 9.23346066e-01,\n",
       "       2.57548698e-01, 9.57521690e-01, 7.37871128e-02, 1.53358150e-01,\n",
       "       8.98313853e-01, 9.27476919e-01, 4.20335400e-01, 9.27140813e-02,\n",
       "       9.25995047e-01, 1.75741198e-01, 2.16152612e-01, 2.55711761e-01,\n",
       "       2.69560300e-01, 2.47523087e-01, 2.72325268e-01, 7.07224901e-02,\n",
       "       2.66590680e-01, 1.15372685e-01, 9.71140365e-01, 1.24020921e-01,\n",
       "       3.11202469e-01, 1.01958597e-01, 7.33205135e-02, 3.61564900e-01,\n",
       "       1.61374905e-01, 1.01971741e-01, 1.23958355e-01, 8.93744167e-01,\n",
       "       3.77863412e-01])"
      ]
     },
     "execution_count": 388,
     "metadata": {},
     "output_type": "execute_result"
    }
   ],
   "source": [
    "logreg.predict_proba(X_train_poly)[:,1]"
   ]
  },
  {
   "cell_type": "code",
   "execution_count": 387,
   "metadata": {},
   "outputs": [
    {
     "data": {
      "text/plain": [
       "array([0., 0., 0., 0., 0., 0., 1., 1., 0., 0., 0., 0., 0., 1., 0., 0., 1.,\n",
       "       0., 1., 0., 0., 0., 0., 0., 0., 1., 1., 0., 0., 0., 1., 0., 0., 0.,\n",
       "       0., 0., 0., 0., 0., 0., 1., 1., 0., 0., 0., 0., 1., 0., 0., 0., 0.,\n",
       "       0., 0., 1., 1., 0., 0., 1., 1., 0., 0., 0., 1., 0., 1., 1., 0., 0.,\n",
       "       0., 0., 0., 0., 1., 0., 1., 1., 0., 0., 0., 0., 1., 0., 1., 0., 1.,\n",
       "       0., 0., 1., 1., 0., 0., 1., 0., 0., 0., 0., 1., 1., 0., 0., 0., 0.,\n",
       "       0., 0., 0., 0., 1., 0., 0., 0., 0., 0., 0., 0., 0., 0., 0., 1., 0.,\n",
       "       1., 0., 0., 0., 1., 0., 0., 0., 1., 1., 1., 0., 0., 0., 1., 0., 1.,\n",
       "       0., 0., 0., 1., 0., 0., 0., 0., 1., 1., 1., 0., 1., 0., 0., 0., 0.,\n",
       "       0., 0., 1., 1., 0., 0., 0., 0., 0., 0., 0., 0., 0., 0., 1., 0., 0.,\n",
       "       1., 1., 1., 1., 1., 0., 0., 1., 1., 1., 1., 1., 1., 0., 0., 0., 0.,\n",
       "       0., 0., 1., 0., 0., 0., 0., 0., 0., 1., 1., 0., 0., 1., 0., 0., 0.,\n",
       "       1., 1., 1., 0., 0., 0., 0., 0., 1., 0., 0., 1., 0., 0., 0., 0., 1.,\n",
       "       1., 0., 0., 0., 1., 1., 1., 0., 0., 0., 1., 0., 0., 0., 0., 0., 0.,\n",
       "       1., 0., 0., 0., 0., 0., 0., 1., 1., 1., 0., 0., 0., 0., 1., 0., 1.,\n",
       "       1., 0., 1., 0., 0., 0., 1., 0., 0., 0., 0., 0., 0., 0., 0., 0., 0.,\n",
       "       0., 1., 0., 0., 0., 1., 0., 0., 0., 0., 1., 0., 0., 0., 0., 0., 1.,\n",
       "       0., 1., 1., 0., 0., 0., 0., 1., 0., 0., 0., 1., 0., 1., 0., 0., 0.,\n",
       "       0., 0., 1., 0., 0., 1., 0., 0., 1., 1., 1., 1., 0., 0., 1., 0., 0.,\n",
       "       0., 0., 0., 0., 0., 0., 0., 0., 0., 0., 0., 1., 0., 1., 0., 0., 0.,\n",
       "       0., 0., 0., 0., 0., 1., 0., 0., 0., 0., 0., 0., 0., 1., 1., 0., 0.,\n",
       "       1., 0., 0., 0., 1., 1., 0., 0., 1., 0., 0., 0., 1., 0., 0., 1., 1.,\n",
       "       1., 0., 1., 1., 0., 1., 0., 0., 0., 0., 1., 1., 0., 0., 0., 0., 0.,\n",
       "       0., 0., 0., 0., 1., 1., 0., 0., 0., 0., 0., 0., 0., 1., 0., 1., 0.,\n",
       "       0., 1., 0., 0., 0., 1., 0., 0., 0., 0., 0., 1., 0., 0., 0., 0., 0.,\n",
       "       0., 1., 0., 0., 0., 0., 0., 0., 1., 0., 0., 0., 1., 0., 0., 0., 0.,\n",
       "       0., 1., 1., 0., 0., 0., 0., 0., 0., 0., 0., 0., 1., 0., 0., 0., 0.,\n",
       "       0., 0., 0., 0., 1., 0., 1., 0., 1., 0., 0., 0., 1., 0., 1., 0., 0.,\n",
       "       1., 1., 0., 0., 1., 0., 0., 0., 0., 0., 0., 0., 0., 0., 1., 0., 0.,\n",
       "       0., 0., 0., 0., 0., 0., 1., 0.])"
      ]
     },
     "execution_count": 387,
     "metadata": {},
     "output_type": "execute_result"
    }
   ],
   "source": [
    "logreg.predict(X_train_poly)"
   ]
  }
 ],
 "metadata": {
  "kernelspec": {
   "display_name": ".venv",
   "language": "python",
   "name": "python3"
  },
  "language_info": {
   "codemirror_mode": {
    "name": "ipython",
    "version": 3
   },
   "file_extension": ".py",
   "mimetype": "text/x-python",
   "name": "python",
   "nbconvert_exporter": "python",
   "pygments_lexer": "ipython3",
   "version": "3.10.11"
  }
 },
 "nbformat": 4,
 "nbformat_minor": 2
}
